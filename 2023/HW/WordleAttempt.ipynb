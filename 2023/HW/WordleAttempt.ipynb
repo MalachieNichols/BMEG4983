{
  "nbformat": 4,
  "nbformat_minor": 0,
  "metadata": {
    "colab": {
      "provenance": []
    },
    "kernelspec": {
      "name": "python3",
      "display_name": "Python 3"
    },
    "language_info": {
      "name": "python"
    }
  },
  "cells": [
    {
      "cell_type": "code",
      "source": [
        "#Import tool for handeling data\n",
        "import pandas as pd"
      ],
      "metadata": {
        "id": "n11AZOa0OP2H"
      },
      "execution_count": 1,
      "outputs": []
    },
    {
      "cell_type": "code",
      "execution_count": 3,
      "metadata": {
        "id": "TBU9RZbZNvhD"
      },
      "outputs": [],
      "source": [
        "#read in file\n",
        "df = pd.read_csv('https://raw.githubusercontent.com/dwyl/english-words/master/words_alpha.txt',header=None)\n"
      ]
    },
    {
      "cell_type": "code",
      "source": [
        "#check dataframe worked. Not necessary to run\n",
        "print(df)"
      ],
      "metadata": {
        "colab": {
          "base_uri": "https://localhost:8080/"
        },
        "id": "rMGZGfI4Od97",
        "outputId": "df3c97aa-36d9-4384-80b4-2cbeca1c5394"
      },
      "execution_count": 4,
      "outputs": [
        {
          "output_type": "stream",
          "name": "stdout",
          "text": [
            "                   0\n",
            "0                  a\n",
            "1                 aa\n",
            "2                aaa\n",
            "3                aah\n",
            "4              aahed\n",
            "...              ...\n",
            "370100  zwinglianism\n",
            "370101  zwinglianist\n",
            "370102       zwitter\n",
            "370103    zwitterion\n",
            "370104  zwitterionic\n",
            "\n",
            "[370105 rows x 1 columns]\n"
          ]
        }
      ]
    },
    {
      "cell_type": "code",
      "source": [
        "#Make a new df with only 5 character words\n",
        "print(len(df.iloc[0][0]))\n",
        "print(len(df))\n",
        "\n",
        "wordlist5 = [] \n",
        "#for i in range(0,len(df)-1):\n",
        "for i in range(0,len(df)):\n",
        "  if isinstance(df.iloc[i][0], str):\n",
        "    if len(df.iloc[i][0]) ==5:\n",
        "      wordlist5.append(df.iloc[i][0])\n",
        "  else:\n",
        "    print(df.iloc[i][0])\n",
        "    print(i)\n",
        "\n",
        "\n",
        "print(len(wordlist5))"
      ],
      "metadata": {
        "colab": {
          "base_uri": "https://localhost:8080/"
        },
        "id": "SjCm1XV-OlR1",
        "outputId": "123b1f84-c971-4e97-faea-66d6cfc990ad"
      },
      "execution_count": 5,
      "outputs": [
        {
          "output_type": "stream",
          "name": "stdout",
          "text": [
            "1\n",
            "370105\n",
            "nan\n",
            "196710\n",
            "nan\n",
            "209464\n",
            "15920\n"
          ]
        }
      ]
    },
    {
      "cell_type": "code",
      "source": [
        "#Loop 5 times\n",
        "#----\n",
        "#get user input\n",
        "wrongletters = [];\n",
        "incorrectlyplacedletters = []; #Needs position\n",
        "correctlyplacedletters = []; #Needs position\n",
        "updatedlist = wordlist5\n",
        "for i in range(0,6):\n",
        "  print(len(updatedlist))\n",
        "  decentguess = False\n",
        "  while (decentguess==False):\n",
        "    stringguess = input(\"Enter guess 5 char : \")\n",
        "    if stringguess in updatedlist:\n",
        "      print('Good')\n",
        "      decentguess = True\n",
        "    else:\n",
        "      print('try again - not in list')\n",
        "  correctsize = False\n",
        "  while (correctsize == False):\n",
        "    score = input(\"what score did you get 0-wrong 1-out of place 2-correct? : \")\n",
        "    if(len(score)!=5):\n",
        "      print('try again')\n",
        "    else:\n",
        "      print('thank you')\n",
        "      correctsize = True\n",
        "  print('here')\n",
        "  \n",
        "  templist = []\n",
        "  for k in range(0,len(updatedlist)):\n",
        "    tempword=updatedlist[k]\n",
        "    flag = True\n",
        "    for j in range(0,5):\n",
        "      if score[j] =='0':\n",
        "        if stringguess[j] in tempword:\n",
        "          flag = False\n",
        "          continue;\n",
        "      elif score[j] == '1':\n",
        "        if stringguess[j] in tempword:\n",
        "          if tempword[j] == stringguess[j]:\n",
        "            flag = False\n",
        "            continue #don't include if it's in the same position        \n",
        "      elif score[j] == '2':\n",
        "        if stringguess[j] != tempword[j]:\n",
        "          flag = False\n",
        "          continue #don't include if not correct with position 2\n",
        "      else:\n",
        "        print('did you put in a number that was not 0 1 or 2')\n",
        "    if(flag):\n",
        "      templist.append(tempword)\n",
        "  updatedlist = templist\n",
        "  print(len(updatedlist))\n",
        "\n",
        "  print(updatedlist)\n",
        "   \n",
        "\n",
        "#Sort by letter frequency and print top suggestions\n",
        "\n",
        "\n"
      ],
      "metadata": {
        "colab": {
          "base_uri": "https://localhost:8080/"
        },
        "id": "adAiOexXi5xw",
        "outputId": "080a937b-c19d-47ac-9b47-e0e8322b578b"
      },
      "execution_count": null,
      "outputs": [
        {
          "output_type": "stream",
          "name": "stdout",
          "text": [
            "15918\n",
            "Enter guess 5 char : dance\n",
            "Good\n",
            "what score did you get 0-wrong 1-out of place 2-correct? : 00100\n",
            "thank you\n",
            "here\n",
            "2562\n",
            "['bhili', 'bhoot', 'bhuts', 'bibby', 'bibbs', 'bibio', 'biffy', 'biffs', 'biggy', 'bight', 'bigly', 'bigot', 'bijou', 'bikol', 'bilbi', 'bilby', 'bilbo', 'bilgy', 'bilin', 'bilio', 'bilks', 'billy', 'bills', 'bilos', 'bilsh', 'bimbo', 'biont', 'byous', 'birky', 'birks', 'birls', 'byrls', 'birny', 'biron', 'byron', 'birri', 'byrri', 'birrs', 'birsy', 'birth', 'bisks', 'bison', 'byssi', 'bisso', 'bisti', 'bitis', 'bitsy', 'bitty', 'bitts', 'bivvy', 'bixin', 'blimy', 'blimp', 'blini', 'bliny', 'blink', 'blips', 'blirt', 'bliss', 'blist', 'blitz', 'blizz', 'blobs', 'bloom', 'bloop', 'blots', 'blout', 'blowy', 'blown', 'blows', 'bluff', 'blunk', 'blunt', 'blurb', 'blurs', 'blurt', 'blush', 'bobby', 'bobol', 'boffo', 'boffs', 'boggy', 'bogum', 'bogus', 'bohor', 'boiko', 'boily', 'boils', 'boing', 'boyos', 'boist', 'bokom', 'bokos', 'bolis', 'bolly', 'bolls', 'bolos', 'bolti', 'bolty', 'bolts', 'bolus', 'bombo', 'bombs', 'bomos', 'booby', 'boobs', 'booky', 'books', 'booly', 'boomy', 'booms', 'boong', 'boonk', 'boons', 'boors', 'boort', 'boosy', 'boost', 'booth', 'booty', 'boots', 'boozy', 'borgh', 'boryl', 'boris', 'boron', 'borty', 'borts', 'bortz', 'bosky', 'bosks', 'bosom', 'boson', 'bossy', 'bosun', 'bothy', 'botry', 'botts', 'bottu', 'bough', 'boult', 'bourg', 'bourn', 'bourr', 'bousy', 'bouto', 'bouts', 'bowly', 'bowls', 'boxty', 'bozos', 'brigs', 'brill', 'brims', 'bring', 'briny', 'brink', 'brins', 'bryon', 'brios', 'brisk', 'briss', 'brist', 'brith', 'brits', 'britt', 'bryum', 'brizz', 'brogh', 'broil', 'broll', 'bromo', 'bronk', 'bronx', 'brook', 'brool', 'broom', 'broon', 'broos', 'brosy', 'broth', 'brott', 'brown', 'brows', 'brubu', 'brugh', 'bruin', 'bruit', 'brujo', 'bruno', 'brunt', 'brush', 'brusk', 'bruzz', 'bubby', 'bubos', 'buffi', 'buffy', 'buffo', 'buffs', 'buggy', 'bught', 'buhls', 'buhrs', 'built', 'buist', 'bulby', 'bulbs', 'bulgy', 'bulky', 'bulks', 'bully', 'bulls', 'bumbo', 'bumfs', 'bumph', 'bumpy', 'bumps', 'buoys', 'burbs', 'burgh', 'burgs', 'burin', 'burys', 'burly', 'burls', 'burny', 'burns', 'burnt', 'buroo', 'burps', 'burry', 'burro', 'burrs', 'burst', 'burut', 'busby', 'bushi', 'bushy', 'busky', 'busks', 'bussy', 'bussu', 'busti', 'busty', 'busto', 'busts', 'butyl', 'butin', 'butyn', 'butyr', 'butsu', 'butty', 'butts', 'butut', 'buxom', 'buxus', 'buzzy', 'fibry', 'fibro', 'fifth', 'fifty', 'figgy', 'fight', 'filii', 'filix', 'filly', 'fills', 'filmy', 'films', 'filth', 'filum', 'firms', 'firns', 'firry', 'first', 'firth', 'fishy', 'fisty', 'fists', 'fitly', 'fitty', 'fixup', 'fizzy', 'flyby', 'flimp', 'fling', 'flint', 'flips', 'flirt', 'flisk', 'flits', 'flogs', 'floit', 'floyt', 'flong', 'flook', 'floor', 'flops', 'flory', 'flosh', 'floss', 'flots', 'flour', 'flout', 'flowk', 'flown', 'flows', 'flubs', 'fluff', 'fluyt', 'fluky', 'flump', 'flung', 'flunk', 'fluor', 'flurn', 'flurr', 'flurt', 'flush', 'flusk', 'fluty', 'foggy', 'fogon', 'fogou', 'fogus', 'fohns', 'foils', 'foins', 'foism', 'foist', 'folio', 'folky', 'folks', 'folly', 'fools', 'footy', 'foots', 'foppy', 'forby', 'forbs', 'forgo', 'forky', 'forks', 'formy', 'forms', 'forst', 'forth', 'forty', 'forts', 'forum', 'fotui', 'fouls', 'fount', 'fourb', 'fours', 'fouth', 'fouty', 'fowls', 'foxly', 'fplot', 'fpsps', 'frigs', 'frill', 'frisk', 'friss', 'frist', 'frith', 'frits', 'fritt', 'fritz', 'frizz', 'frogs', 'frons', 'front', 'froom', 'frory', 'frosh', 'frosk', 'frost', 'froth', 'frowy', 'frowl', 'frown', 'frows', 'frugs', 'fruit', 'frump', 'frush', 'frust', 'fubby', 'fubsy', 'fuffy', 'fuggy', 'fugio', 'fugit', 'fujis', 'fully', 'fulls', 'fulth', 'fultz', 'fulup', 'furil', 'furyl', 'furls', 'furor', 'furry', 'furzy', 'fusht', 'fusil', 'fussy', 'fusty', 'fusus', 'fuzil', 'fuzzy', 'ghbor', 'ghyll', 'ghoom', 'ghost', 'ghoul', 'gibbi', 'gibby', 'gibli', 'gibus', 'gifts', 'gygis', 'gigot', 'gilim', 'gilly', 'gills', 'gilpy', 'gilty', 'gilts', 'gimpy', 'gimps', 'gipon', 'gippy', 'gippo', 'gyppo', 'gipsy', 'gypsy', 'girly', 'girls', 'girny', 'girns', 'giron', 'gyron', 'giros', 'gyros', 'girsh', 'girth', 'girts', 'gyrus', 'gismo', 'gists', 'gitim', 'giust', 'givin', 'gizmo', 'gliff', 'glims', 'glink', 'glynn', 'glint', 'glyph', 'glisk', 'gliss', 'glist', 'globy', 'globs', 'glogg', 'glomi', 'gloms', 'gloom', 'glops', 'glory', 'gloss', 'glost', 'glout', 'glows', 'glump', 'gluon', 'gluts', 'gnoff', 'gobby', 'gobio', 'gobos', 'gogos', 'goyim', 'goyin', 'going', 'golfs', 'golgi', 'golly', 'gombo', 'goofy', 'goofs', 'gooky', 'gooks', 'gools', 'goony', 'goons', 'goopy', 'goops', 'goosy', 'gorki', 'gorry', 'gorsy', 'gorst', 'gossy', 'goths', 'gotos', 'goumi', 'goury', 'gouty', 'gouts', 'gowks', 'gowns', 'griff', 'grift', 'grigs', 'grill', 'grimy', 'grimm', 'grimp', 'grins', 'grint', 'griot', 'griph', 'gryph', 'gripy', 'grips', 'gript', 'grist', 'grith', 'grits', 'groff', 'grogs', 'groin', 'gront', 'groof', 'groom', 'groop', 'groot', 'groow', 'gross', 'grosz', 'grots', 'grouf', 'group', 'grout', 'grovy', 'growl', 'grown', 'grows', 'grubs', 'gruff', 'gruft', 'gruis', 'gruys', 'grump', 'grunt', 'grush', 'gruss', 'gubbo', 'guffy', 'guffs', 'guijo', 'guily', 'guilt', 'guyot', 'guiro', 'gulfy', 'gulfs', 'gulix', 'gully', 'gulls', 'gulph', 'gulpy', 'gulps', 'gumby', 'gumbo', 'gumly', 'gummy', 'guppy', 'gurly', 'gurry', 'gursh', 'gurts', 'gurus', 'gushy', 'gussy', 'gusty', 'gusto', 'gusts', 'gutsy', 'gutti', 'gutty', 'guzul', 'highs', 'hight', 'hying', 'hilly', 'hillo', 'hills', 'hilts', 'hilum', 'hilus', 'hymns', 'hypho', 'hipmi', 'hypos', 'hippi', 'hippy', 'hippo', 'hirst', 'hyrst', 'hisis', 'hyson', 'hissy', 'hists', 'hobby', 'hobos', 'hoggy', 'hoggs', 'hogni', 'hoist', 'hokku', 'hokum', 'holks', 'holly', 'hollo', 'holms', 'holts', 'homos', 'hoofy', 'hoofs', 'hooky', 'hooks', 'hooly', 'hoops', 'hoosh', 'hoots', 'hopis', 'hoppy', 'hoppo', 'horim', 'horny', 'horns', 'horol', 'horry', 'horsy', 'horst', 'hosts', 'hotly', 'hough', 'hoult', 'houri', 'hours', 'housy', 'houss', 'howff', 'howfs', 'howks', 'howls', 'howso', 'hubby', 'huffy', 'huffs', 'hulky', 'hulks', 'hullo', 'hulls', 'humbo', 'humin', 'humit', 'humor', 'humph', 'humpy', 'humps', 'humus', 'hurly', 'hurls', 'huron', 'hurri', 'hurry', 'hurst', 'hurty', 'hurts', 'husho', 'husht', 'husky', 'husks', 'hussy', 'huzzy', 'ifint', 'ifrit', 'ighly', 'igloo', 'iglus', 'yills', 'yirrs', 'yirth', 'ikons', 'ilion', 'ilium', 'illth', 'illus', 'iloko', 'imino', 'immis', 'immit', 'immix', 'immov', 'immun', 'impis', 'imply', 'impot', 'imput', 'imshi', 'inbow', 'infin', 'infit', 'infix', 'infos', 'inglu', 'ingot', 'inigo', 'inion', 'injun', 'inkos', 'inorb', 'inorg', 'input', 'inrol', 'inrub', 'inrun', 'insol', 'instr', 'intil', 'intnl', 'intro', 'intsv', 'inurn', 'inust', 'invoy', 'inwit', 'yobbo', 'yoghs', 'yogin', 'yogis', 'yolky', 'yolks', 'yomim', 'yomin', 'iortn', 'youff', 'young', 'yourn', 'yours', 'yourt', 'youth', 'yowls', 'iphis', 'irbis', 'irgun', 'iring', 'irish', 'iroko', 'irony', 'irons', 'irous', 'irvin', 'irwin', 'ising', 'islot', 'isoln', 'isort', 'isthm', 'yukon', 'iulus', 'yummy', 'yupon', 'yurok', 'yurts', 'yuruk', 'ivory', 'ixion', 'izing', 'izumi', 'jhool', 'jibby', 'jibbs', 'jiffy', 'jiffs', 'jiggy', 'jills', 'jilts', 'jimbo', 'jimmy', 'jimpy', 'jiqui', 'jisms', 'jitro', 'johns', 'joins', 'joint', 'joist', 'jokul', 'jolly', 'jolty', 'jolts', 'jomon', 'jorum', 'joshi', 'josip', 'jotty', 'jough', 'jougs', 'jouks', 'journ', 'jours', 'joust', 'jowly', 'jowls', 'jowpy', 'jubus', 'jufti', 'jufts', 'jugum', 'jujus', 'julio', 'julus', 'jumby', 'jumbo', 'jumpy', 'jumps', 'jupon', 'juris', 'juror', 'jussi', 'justo', 'justs', 'jutty', 'khuzi', 'kikki', 'kikoi', 'kilij', 'kilim', 'kylin', 'kylix', 'killy', 'kills', 'kilns', 'kilom', 'kilos', 'kilty', 'kilts', 'kimbo', 'kimmo', 'kioko', 'kiosk', 'kyoto', 'kippy', 'kirby', 'kirks', 'kirns', 'kishy', 'kissy', 'kists', 'kiths', 'kitty', 'kyung', 'kiwis', 'kizil', 'kling', 'klino', 'klong', 'kloof', 'klops', 'klosh', 'klunk', 'klutz', 'knish', 'knits', 'knobs', 'knoit', 'knoll', 'knops', 'knorr', 'knosp', 'knots', 'knout', 'known', 'knows', 'knurl', 'knurs', 'knuth', 'kobus', 'kohls', 'kokil', 'kokio', 'kokos', 'kokum', 'kolis', 'kolos', 'kombu', 'kooky', 'kooks', 'koorg', 'kophs', 'kopis', 'korin', 'korun', 'kosin', 'kosos', 'kotos', 'kotow', 'kovil', 'krill', 'kriss', 'krivu', 'kroon', 'krubi', 'kukri', 'kukui', 'kumbi', 'kumyk', 'kumis', 'kumys', 'kumni', 'kurku', 'kurmi', 'kurus', 'kusso', 'kusti', 'kusum', 'kvint', 'libby', 'libri', 'lifts', 'light', 'lygus', 'lying', 'likin', 'lilly', 'lilts', 'limbi', 'limby', 'limbo', 'limbs', 'limbu', 'limit', 'limli', 'limmu', 'limns', 'limos', 'lymph', 'limpy', 'limps', 'limsy', 'lions', 'lipin', 'lippy', 'lirot', 'lysin', 'lysis', 'lysol', 'lisps', 'listy', 'lists', 'liszt', 'lithi', 'lithy', 'litho', 'litui', 'litus', 'livor', 'lobby', 'lobos', 'lobus', 'lofty', 'lofts', 'loggy', 'login', 'logis', 'logoi', 'logos', 'loins', 'lolly', 'lolls', 'looby', 'loofs', 'looky', 'looks', 'looms', 'loony', 'loons', 'loopy', 'loops', 'loory', 'loots', 'loppy', 'loris', 'loros', 'lorry', 'lorum', 'lossy', 'lotor', 'lotos', 'lotto', 'lotus', 'lough', 'louis', 'loulu', 'loups', 'loury', 'lours', 'lousy', 'louty', 'louts', 'lowly', 'lowry', 'lowth', 'luffs', 'luigi', 'lully', 'lulls', 'lulus', 'lummy', 'lumpy', 'lumps', 'lumut', 'lupin', 'lupis', 'lupus', 'lurky', 'lurks', 'lurry', 'lushy', 'lusky', 'lusty', 'lusts', 'lusus', 'luxus', 'mbori', 'mhorr', 'miffy', 'miffs', 'miggs', 'might', 'mikir', 'milit', 'milky', 'milko', 'milks', 'milly', 'mills', 'milor', 'milos', 'milty', 'milts', 'mimir', 'mimly', 'mimsy', 'mimus', 'mimzy', 'myopy', 'myops', 'mirky', 'mirks', 'mirly', 'myron', 'myrrh', 'mirth', 'mirvs', 'misgo', 'mysis', 'misky', 'misly', 'misos', 'missy', 'misty', 'mists', 'myths', 'mitis', 'mitty', 'mitts', 'mixup', 'mizzy', 'mnium', 'mobby', 'mobil', 'moggy', 'mogos', 'mogul', 'mohos', 'mohur', 'moils', 'moism', 'moist', 'moity', 'mojos', 'mokum', 'molly', 'molls', 'molto', 'molts', 'molvi', 'mommy', 'momus', 'mools', 'moong', 'moony', 'moons', 'moory', 'moorn', 'moors', 'moost', 'mooth', 'moots', 'moppy', 'mopsy', 'mopus', 'moqui', 'morin', 'mormo', 'morns', 'moron', 'moror', 'morph', 'morro', 'morth', 'morts', 'morus', 'mosgu', 'mosks', 'mossi', 'mossy', 'mosso', 'mosts', 'mosul', 'mosur', 'mothy', 'moths', 'motif', 'moton', 'motor', 'motty', 'motto', 'motts', 'mouly', 'mouls', 'moult', 'mount', 'mourn', 'mousy', 'mouth', 'mowth', 'mozos', 'mphps', 'msink', 'muffy', 'muffs', 'mufti', 'mufty', 'muggy', 'muggs', 'mugho', 'mugil', 'muhly', 'muist', 'mujik', 'mukri', 'mukti', 'mulls', 'multi', 'multo', 'mumbo', 'mummy', 'mumms', 'mumps', 'mumsy', 'muong', 'muons', 'murky', 'murks', 'murly', 'murmi', 'murph', 'murry', 'murrs', 'murut', 'musgu', 'mushy', 'musit', 'musky', 'musks', 'mussy', 'musth', 'musty', 'musts', 'mutts', 'mutus', 'muzzy', 'ngoko', 'nibby', 'nifty', 'nighs', 'night', 'nihil', 'nikko', 'nikon', 'nills', 'nylon', 'nilot', 'nimbi', 'nymil', 'nymph', 'nymss', 'nyoro', 'nippy', 'niris', 'nirls', 'nisus', 'niton', 'nitos', 'nitro', 'nitty', 'nyxis', 'nixon', 'nobby', 'nobis', 'nobly', 'nobut', 'noggs', 'nohow', 'noily', 'noils', 'noint', 'noisy', 'nolos', 'nomoi', 'nomos', 'nooky', 'nooks', 'noons', 'norit', 'norms', 'norry', 'norsk', 'north', 'nosig', 'notum', 'notus', 'nouns', 'novum', 'novus', 'nowts', 'nubby', 'nullo', 'nulls', 'numbs', 'numis', 'nummi', 'numps', 'nurly', 'nurls', 'nurry', 'nursy', 'nutsy', 'nutty', 'obiit', 'obits', 'obmit', 'oboli', 'obols', 'oftly', 'oghuz', 'ohing', 'oisin', 'okrug', 'olios', 'ology', 'olson', 'omits', 'onymy', 'onion', 'onium', 'onkos', 'onmun', 'oobit', 'oolly', 'oomph', 'ophir', 'ophis', 'oping', 'opium', 'opsin', 'orbit', 'oribi', 'orion', 'orlon', 'orlop', 'orlos', 'oromo', 'orpin', 'orpit', 'orris', 'orrow', 'orson', 'ortho', 'ortyx', 'ortol', 'osmin', 'osmol', 'othin', 'otium', 'otkon', 'otomi', 'ottos', 'ought', 'ouphs', 'ousts', 'outby', 'outgo', 'outly', 'ouzos', 'ovism', 'ovist', 'ovoli', 'ovolo', 'owght', 'owing', 'oxboy', 'oxbow', 'oxfly', 'oxims', 'oxlip', 'phill', 'phlox', 'phoby', 'phony', 'phono', 'phons', 'phoss', 'photo', 'phots', 'phpht', 'piggy', 'pight', 'pigly', 'pigmy', 'pygmy', 'piing', 'pyins', 'pilin', 'pilis', 'pills', 'pilmy', 'pilon', 'pylon', 'pilot', 'pilum', 'pilus', 'pimps', 'pions', 'piotr', 'pious', 'pipil', 'pipit', 'pippy', 'pirny', 'pirns', 'pirog', 'pirol', 'pirot', 'pyrus', 'pishu', 'pisky', 'pisum', 'pithy', 'piths', 'piton', 'piuri', 'pivot', 'piwut', 'pyxis', 'pliny', 'plink', 'pliss', 'ploys', 'plomb', 'plonk', 'plook', 'plops', 'plots', 'plott', 'plotx', 'plouk', 'plout', 'plows', 'pluff', 'plugs', 'plumb', 'plumy', 'plump', 'plums', 'plunk', 'plupf', 'plush', 'pluto', 'pobby', 'poggy', 'poilu', 'point', 'poyou', 'pokom', 'polio', 'polyp', 'polis', 'polys', 'polit', 'polki', 'polly', 'polls', 'poloi', 'polos', 'pombo', 'pommy', 'pomps', 'poohs', 'pooli', 'pooly', 'pools', 'poons', 'poops', 'poori', 'poort', 'pooty', 'poppy', 'popsy', 'porgy', 'porgo', 'porky', 'porks', 'porno', 'porns', 'poros', 'porry', 'porty', 'porto', 'ports', 'porus', 'posho', 'posit', 'possy', 'posts', 'potoo', 'potsy', 'potti', 'potty', 'potto', 'potus', 'pouff', 'poufs', 'poulp', 'poult', 'pours', 'pousy', 'pouty', 'pouts', 'powny', 'pozzy', 'prigs', 'prill', 'primi', 'primy', 'primo', 'primp', 'prims', 'prink', 'print', 'prion', 'prior', 'prism', 'priss', 'prius', 'privy', 'profs', 'progs', 'promo', 'proms', 'prong', 'proof', 'propr', 'props', 'prosy', 'proso', 'pross', 'prost', 'proto', 'prowl', 'prows', 'proxy', 'prunt', 'pubis', 'puffy', 'puffs', 'puggi', 'puggy', 'pugil', 'puist', 'pulik', 'pulis', 'pulli', 'pulls', 'pulpy', 'pulps', 'pumps', 'pupil', 'puppy', 'purim', 'purin', 'puris', 'purls', 'purry', 'purrs', 'pursy', 'purty', 'pushy', 'pussy', 'puton', 'putti', 'putty', 'putto', 'putts', 'qophs', 'quiff', 'quill', 'quilt', 'quink', 'quins', 'quint', 'quipo', 'quips', 'quipu', 'quirk', 'quirl', 'quirt', 'quist', 'quito', 'quits', 'quitu', 'quoin', 'quoit', 'quoth', 'quott', 'qursh', 'qurti', 'rhymy', 'rhino', 'rhomb', 'rhumb', 'ribby', 'riffi', 'riffs', 'rifty', 'rifts', 'right', 'rigol', 'rigor', 'rilly', 'rills', 'rimpi', 'riots', 'ryots', 'ripup', 'rishi', 'risky', 'risks', 'risqu', 'risus', 'ritsu', 'ritus', 'ritzy', 'robin', 'robot', 'robur', 'roguy', 'rohob', 'rohun', 'roily', 'roils', 'royou', 'roist', 'rollo', 'rolls', 'rompy', 'romps', 'rompu', 'roofy', 'roofs', 'rooky', 'rooks', 'roomy', 'rooms', 'roost', 'rooti', 'rooty', 'roots', 'rorty', 'roshi', 'rosin', 'rotls', 'rotor', 'rotos', 'rough', 'rougy', 'rouky', 'roupy', 'roups', 'roust', 'routh', 'routs', 'rowth', 'rowty', 'rozum', 'rubby', 'rubin', 'rubor', 'rubus', 'ruffs', 'rufus', 'rugby', 'ruggy', 'ruing', 'ruins', 'rumbo', 'rumly', 'rummy', 'rumor', 'rumpy', 'rumps', 'rushy', 'rusin', 'rusky', 'rusks', 'rusot', 'rusty', 'rusts', 'ruths', 'rutyl', 'rutin', 'rutty', 'sfoot', 'shift', 'shiko', 'shilf', 'shilh', 'shily', 'shyly', 'shill', 'shims', 'shiny', 'shins', 'ships', 'shipt', 'shirk', 'shirl', 'shirr', 'shirt', 'shish', 'shisn', 'shist', 'shits', 'shivy', 'shivs', 'shluh', 'shogi', 'shogs', 'shoyu', 'shoji', 'shojo', 'shooi', 'shook', 'shool', 'shoon', 'shoop', 'shoor', 'shoos', 'shoot', 'shops', 'shorl', 'shorn', 'short', 'shots', 'shott', 'shout', 'showy', 'shown', 'shows', 'shrip', 'shris', 'shrog', 'shrub', 'shrug', 'shuff', 'shuln', 'shuls', 'shuns', 'shunt', 'shurf', 'shush', 'shuts', 'sibby', 'sibbs', 'sibyl', 'sybil', 'sybow', 'syftn', 'sifts', 'sighs', 'sight', 'sigil', 'signs', 'sikhs', 'silyl', 'silky', 'silks', 'silly', 'sills', 'silos', 'sylph', 'silty', 'silts', 'simon', 'simps', 'simul', 'sioux', 'sippy', 'sirih', 'siris', 'sirki', 'sirky', 'sirop', 'siros', 'sirup', 'syrup', 'syrus', 'sysin', 'sissy', 'sissu', 'sitio', 'situp', 'situs', 'siums', 'siusi', 'sixmo', 'sixth', 'sixty', 'skiff', 'skift', 'skiis', 'skill', 'skimo', 'skimp', 'skims', 'skink', 'skins', 'skint', 'skips', 'skirl', 'skirp', 'skirr', 'skirt', 'skits', 'skivy', 'skiwy', 'skoot', 'skout', 'skulk', 'skull', 'skulp', 'skunk', 'slily', 'slyly', 'slimy', 'slims', 'sling', 'slink', 'slips', 'slipt', 'slirt', 'slish', 'slits', 'slobs', 'slogs', 'slonk', 'sloom', 'sloop', 'sloot', 'slopy', 'slops', 'slorp', 'slosh', 'sloth', 'slots', 'slour', 'slows', 'slubs', 'sluff', 'slugs', 'sluig', 'sluit', 'slump', 'slums', 'slung', 'slunk', 'slurb', 'slurp', 'slurs', 'slush', 'sluts', 'smift', 'smily', 'smirk', 'smith', 'smyth', 'smogs', 'smoky', 'smoko', 'smolt', 'smook', 'smoos', 'smoot', 'smous', 'smout', 'smrgs', 'smurr', 'smush', 'smuts', 'snibs', 'sniff', 'snift', 'snigs', 'snipy', 'snips', 'snirl', 'snirt', 'snits', 'snitz', 'snivy', 'snobs', 'snook', 'snool', 'snoop', 'snoot', 'snork', 'snort', 'snots', 'snout', 'snowy', 'snowk', 'snowl', 'snows', 'snubs', 'snuff', 'snugs', 'snurl', 'snurp', 'snurt', 'sobby', 'softy', 'softs', 'soggy', 'soign', 'soily', 'soils', 'soyot', 'solio', 'solon', 'solos', 'solum', 'solus', 'sooky', 'soony', 'sooth', 'sooty', 'soots', 'sophy', 'sophs', 'sopor', 'soppy', 'sorbs', 'sorgo', 'sorns', 'sorry', 'sorty', 'sorts', 'sorus', 'sotho', 'soths', 'sotik', 'sotol', 'sough', 'souly', 'souls', 'soulx', 'soulz', 'soupy', 'soups', 'soury', 'sours', 'south', 'sozin', 'sozly', 'spiff', 'spiky', 'spiks', 'spill', 'spilt', 'spiny', 'spink', 'spins', 'spiry', 'spiro', 'spirt', 'spiss', 'spits', 'spitz', 'spivs', 'split', 'spoil', 'spoky', 'spong', 'spoof', 'spook', 'spool', 'spoom', 'spoon', 'spoor', 'spoot', 'sport', 'sposh', 'spots', 'spout', 'sprig', 'sprit', 'sprot', 'sprug', 'spumy', 'spung', 'spunk', 'spurl', 'spurn', 'spurs', 'spurt', 'squib', 'squin', 'squit', 'squiz', 'sruti', 'ssing', 'ssort', 'sstor', 'stiff', 'stilb', 'styli', 'still', 'stylo', 'stilt', 'stimy', 'stymy', 'sting', 'stink', 'stint', 'stion', 'stipo', 'stirk', 'stirp', 'stirs', 'stith', 'stivy', 'stobs', 'stoff', 'stogy', 'stoit', 'stomp', 'stong', 'stony', 'stonk', 'stoof', 'stook', 'stool', 'stoon', 'stoop', 'stoot', 'stops', 'stopt', 'story', 'stork', 'storm', 'stosh', 'stoss', 'stott', 'stoun', 'stoup', 'stour', 'stout', 'stowp', 'stows', 'strig', 'strip', 'strit', 'strix', 'stroy', 'strom', 'strop', 'strow', 'strub', 'strum', 'strut', 'struv', 'stubb', 'stubs', 'stuff', 'stull', 'stulm', 'stump', 'stums', 'stung', 'stunk', 'stuns', 'stunt', 'stupp', 'sturk', 'sturt', 'stuss', 'subst', 'sughs', 'sugih', 'sugis', 'suing', 'suint', 'suyog', 'suist', 'suity', 'suits', 'sulfo', 'sulky', 'sulks', 'sully', 'sumos', 'sumph', 'sumps', 'sumpt', 'suomi', 'suppl', 'supvr', 'surfy', 'surfs', 'surgy', 'surly', 'sushi', 'sussy', 'susso', 'sutor', 'swift', 'swigs', 'swill', 'swimy', 'swims', 'swing', 'swink', 'swipy', 'swirl', 'swish', 'swiss', 'swith', 'swizz', 'swobs', 'swoln', 'swonk', 'swoon', 'swoop', 'swops', 'sworn', 'swosh', 'swots', 'swoun', 'swung', 'thigh', 'thilk', 'thill', 'thymi', 'thymy', 'thyms', 'thing', 'think', 'thins', 'thiol', 'thirl', 'thirt', 'thisn', 'thoft', 'tholi', 'thong', 'thoom', 'thorn', 'thoro', 'thorp', 'thort', 'thous', 'thowt', 'thrip', 'throb', 'throu', 'throw', 'thrum', 'thruv', 'thugs', 'thulr', 'thumb', 'thump', 'thung', 'thurl', 'thurm', 'thurt', 'tibby', 'tibbu', 'tiffy', 'tiffs', 'tight', 'tigon', 'tyigh', 'tying', 'tikis', 'tikor', 'tikur', 'tilly', 'tills', 'tilth', 'tilty', 'tilts', 'tylus', 'timbo', 'timon', 'timor', 'tipis', 'tipit', 'typos', 'tippy', 'typps', 'tipsy', 'tipup', 'tirls', 'tiros', 'tyros', 'tissu', 'titis', 'titty', 'titus', 'tizzy', 'toffy', 'toffs', 'tofts', 'tofus', 'toils', 'toyon', 'toyos', 'toist', 'toity', 'toits', 'tokyo', 'tolyl', 'tolly', 'tolls', 'tolus', 'tombs', 'tomin', 'tommy', 'tools', 'toons', 'toosh', 'tooth', 'toots', 'tophi', 'tophs', 'topis', 'topog', 'topoi', 'topos', 'toppy', 'topsy', 'topsl', 'torii', 'toros', 'torsi', 'torsk', 'torso', 'torts', 'torus', 'toshy', 'tossy', 'totty', 'totum', 'tough', 'tourn', 'tours', 'tourt', 'tousy', 'toust', 'touts', 'towny', 'towns', 'towsy', 'toxin', 'toxon', 'trigo', 'trigs', 'trill', 'trims', 'tryms', 'trink', 'triol', 'trior', 'trios', 'tripy', 'tripl', 'trips', 'tript', 'trist', 'tryst', 'trixy', 'troft', 'trogs', 'trois', 'troys', 'troll', 'tromp', 'tronk', 'troop', 'troot', 'trooz', 'troth', 'trots', 'trout', 'trouv', 'trows', 'trubu', 'truff', 'truly', 'trull', 'trump', 'trunk', 'trush', 'truss', 'trust', 'truth', 'tsubo', 'tubby', 'tubig', 'tubik', 'tuffs', 'tufty', 'tufts', 'tugui', 'tuism', 'tulip', 'tulsi', 'tumli', 'tummy', 'tumor', 'tumps', 'tupik', 'turbo', 'turfy', 'turfs', 'turgy', 'turio', 'turki', 'turks', 'turns', 'turps', 'turus', 'turvy', 'tushy', 'tushs', 'tusky', 'tusks', 'tutin', 'tutly', 'tutor', 'tutti', 'tutty', 'tutto', 'tutus', 'twigs', 'twill', 'twilt', 'twiny', 'twink', 'twins', 'twint', 'twirk', 'twirl', 'twirp', 'twist', 'twits', 'twixt', 'uglis', 'uhllo', 'uhuru', 'uigur', 'ulmin', 'ulmus', 'uluhi', 'ululu', 'umbos', 'umiri', 'umist', 'ummps', 'umpty', 'unbit', 'unbog', 'unboy', 'unbow', 'unbox', 'unfit', 'unfix', 'unfur', 'ungot', 'ungum', 'unhip', 'unhit', 'unhot', 'unify', 'uninn', 'union', 'unism', 'unist', 'unity', 'units', 'unius', 'unkin', 'unlit', 'unmix', 'unoil', 'unorn', 'unown', 'unpin', 'unpot', 'unput', 'unrig', 'unrip', 'unrow', 'unrun', 'unshy', 'unsin', 'unsly', 'unson', 'unsty', 'unsun', 'until', 'untin', 'untop', 'unurn', 'unwig', 'unwit', 'unwon', 'unwry', 'unzip', 'upbuy', 'upfly', 'uplit', 'upmix', 'uppop', 'uprip', 'uprun', 'upsit', 'upsun', 'upsup', 'urson', 'ursuk', 'ursus', 'urubu', 'urutu', 'using', 'uskok', 'usury', 'usurp', 'utrum', 'utsuk', 'uviol', 'uvito', 'uvrou', 'vibix', 'vigil', 'vigor', 'vying', 'villi', 'vills', 'viols', 'virgo', 'virls', 'viron', 'virtu', 'virus', 'visit', 'vison', 'visor', 'visto', 'vitis', 'vitry', 'vitro', 'vivos', 'vizir', 'vizor', 'vizzy', 'vobis', 'vogul', 'volow', 'volti', 'volto', 'volts', 'vomit', 'vouli', 'voust', 'vroom', 'vrouw', 'vrows', 'vuggy', 'vuggs', 'vughs', 'vulgo', 'whiff', 'whift', 'whigs', 'whilk', 'whill', 'whils', 'whims', 'whing', 'whiny', 'whins', 'whips', 'whipt', 'whirl', 'whirr', 'whirs', 'whish', 'whisk', 'whisp', 'whiss', 'whist', 'whity', 'whits', 'whizz', 'wholl', 'whomp', 'whoof', 'whoop', 'whoot', 'whops', 'whory', 'whorl', 'whort', 'whoso', 'whuff', 'whulk', 'whump', 'whush', 'wiggy', 'wight', 'wiyot', 'willi', 'willy', 'wills', 'wilts', 'wiros', 'wishy', 'wisht', 'wyson', 'wispy', 'wisps', 'wysty', 'wists', 'withy', 'witty', 'wlity', 'woful', 'wogul', 'wolfs', 'wolly', 'wolof', 'womby', 'wombs', 'woofy', 'woofs', 'woolf', 'wooly', 'wools', 'woomp', 'woons', 'woops', 'woosh', 'wootz', 'woozy', 'wopsy', 'worky', 'works', 'wormy', 'worms', 'worry', 'worst', 'worth', 'worts', 'wough', 'wryly', 'wring', 'wrist', 'writh', 'writs', 'wrong', 'wroot', 'wroth', 'wrung', 'wurly', 'wurst', 'wuzzy', 'xylyl', 'xylol', 'xylon', 'xyris', 'xysti', 'xysts', 'xviii', 'xxiii', 'ziffs', 'zygon', 'zills', 'zimbi', 'zymin', 'zimmi', 'zimmy', 'zippy', 'zitis', 'zizit', 'zloty', 'zoism', 'zoist', 'zokor', 'zombi', 'zooks', 'zooms', 'zoons', 'zooty', 'zoril', 'zoris', 'zorro', 'zulus']\n",
            "2562\n",
            "Enter guess 5 char : bight\n",
            "Good\n",
            "what score did you get 0-wrong 1-out of place 2-correct? : 01002\n",
            "thank you\n",
            "here\n",
            "145\n",
            "['flint', 'flirt', 'floit', 'floyt', 'flout', 'fluyt', 'flurt', 'foist', 'forst', 'fount', 'fplot', 'frist', 'fritt', 'front', 'frost', 'fruit', 'frust', 'ifint', 'ifrit', 'immit', 'impot', 'imput', 'infit', 'input', 'inust', 'inwit', 'yourt', 'islot', 'isort', 'joint', 'joist', 'joust', 'knoit', 'knout', 'kvint', 'lumut', 'moist', 'moost', 'moult', 'mount', 'muist', 'murut', 'musit', 'noint', 'norit', 'orpit', 'ovist', 'plott', 'plout', 'point', 'polit', 'poort', 'posit', 'poult', 'print', 'prost', 'prunt', 'puist', 'quilt', 'quint', 'quirt', 'quist', 'quoit', 'quott', 'roist', 'roost', 'roust', 'rusot', 'sfoot', 'skift', 'skint', 'skirt', 'skoot', 'skout', 'slipt', 'slirt', 'sloot', 'sluit', 'smift', 'smolt', 'smoot', 'smout', 'snift', 'snirt', 'snoot', 'snort', 'snout', 'snurt', 'soyot', 'spilt', 'spirt', 'split', 'spoot', 'sport', 'spout', 'sprit', 'sprot', 'spurt', 'squit', 'ssort', 'stilt', 'stint', 'stoit', 'stoot', 'stopt', 'stott', 'stout', 'strit', 'strut', 'stunt', 'sturt', 'suint', 'suist', 'sumpt', 'swift', 'toist', 'tourt', 'toust', 'tript', 'trist', 'tryst', 'troft', 'troot', 'trout', 'trust', 'twilt', 'twint', 'twist', 'twixt', 'umist', 'unfit', 'unist', 'unlit', 'unpot', 'unput', 'unwit', 'uplit', 'upsit', 'vomit', 'voust', 'worst', 'wrist', 'wroot', 'wurst', 'zoist']\n",
            "145\n",
            "Enter guess 5 char : flint\n",
            "Good\n",
            "what score did you get 0-wrong 1-out of place 2-correct? : 00222\n",
            "thank you\n",
            "here\n",
            "10\n",
            "['joint', 'kvint', 'noint', 'point', 'print', 'quint', 'skint', 'stint', 'suint', 'twint']\n",
            "10\n",
            "Enter guess 5 char : print\n",
            "Good\n",
            "what score did you get 0-wrong 1-out of place 2-correct? : 20222\n",
            "thank you\n",
            "here\n",
            "1\n",
            "['point']\n",
            "1\n",
            "Enter guess 5 char : point\n",
            "Good\n",
            "what score did you get 0-wrong 1-out of place 2-correct? : 22222\n",
            "thank you\n",
            "here\n",
            "1\n",
            "['point']\n",
            "1\n",
            "Enter guess 5 char : point\n",
            "Good\n",
            "what score did you get 0-wrong 1-out of place 2-correct? : 22222\n",
            "thank you\n",
            "here\n",
            "1\n",
            "['point']\n"
          ]
        }
      ]
    }
  ]
}